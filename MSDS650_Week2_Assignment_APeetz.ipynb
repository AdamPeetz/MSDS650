{
 "cells": [
  {
   "cell_type": "markdown",
   "id": "0fcec19b",
   "metadata": {},
   "source": [
    "Adam Peetz<br>\n",
    "MSDS650 Week 2 Assignment<br>\n",
    "Regis University<br>\n",
    "\n",
    "# Flights Database\n",
    "\n",
    "The flights database is a dataset containing flight information for over 5.8 million flights. The dataset includes time information for each flight as well as arrival and destination information. The information in the database was provided by 14 major carriers. The largest service provider in the database is Southwest, with over 1 million flights. A graph of the contributions from all carriers is below.<br>\n",
    "#### Business Impact: Late Flights\n",
    "A flight arriving late to its destination can have big consequences for an airline. Planes schedules are created to keep assets in the air and producing at all times. With only a few minutes of downtime between scheduled flights, a late flight can cause ripple effects through a carriers network adding up to millions of dollars of lost productive time for customers and the airlines themselves.<br>\n",
    "\n",
    "Prescriptive analysis can be performed to identify and mitigate late arrivals. A large flight dataset like the one on hand can be reviewed, and any airports that are preforming poorly can be targeted for improvement. To improve them, airports that are performing better than average can be pulled from the dataset and used as examples for the low performers."
   ]
  },
  {
   "cell_type": "code",
   "execution_count": 36,
   "id": "92686e12",
   "metadata": {},
   "outputs": [
    {
     "data": {
      "text/plain": [
       "Text(0, 0.5, 'Count of flights (millions)')"
      ]
     },
     "execution_count": 36,
     "metadata": {},
     "output_type": "execute_result"
    },
    {
     "data": {
      "image/png": "[encoded data removed]",
      "text/plain": [
       "<Figure size 432x288 with 1 Axes>"
      ]
     },
     "metadata": {
      "needs_background": "light"
     },
     "output_type": "display_data"
    }
   ],
   "source": [
    "#barplot of number of flights in the database for each carrier.\n",
    "sns.barplot(data=servergraph,x='AIRLINE',y='YEAR',palette='summer')\n",
    "plt.xticks(rotation=90)\n",
    "plt.title(\"Airlines in Flights Database\")\n",
    "plt.ylabel(\"Count of flights (millions)\")"
   ]
  },
  {
   "cell_type": "markdown",
   "id": "996506e2",
   "metadata": {},
   "source": [
    "#### Index:\n",
    "1) Dataset Transformations: Import and Clean the Data for Analysis <br>\n",
    "2) Imputing Arrival Delay: Generating Logical Values for Blank Rows <br>\n",
    "3) QQ Plot: Reviewing Data Distributions<br>\n",
    "4) Probability of Delay Table: By Origin Airport<BR>\n",
    "5) Worst Performing Airport: By Proportion of Late Arrivals<br>\n",
    "6) Best Performing Airport: By Proportion of Late Arrivals<br>\n",
    "7) Mean and STD Comparison: GST vs CNY<br>\n",
    "8) Histogram Comparison: GST vs CNY<br>\n",
    "9) Barplot Builder: Airline Data Count<br>"
   ]
  },
  {
   "cell_type": "code",
   "execution_count": 2,
   "id": "c328b096",
   "metadata": {},
   "outputs": [],
   "source": [
    "#import libraries\n",
    "import pandas as pd\n",
    "import numpy as np\n",
    "from scipy import stats\n",
    "import seaborn as sns\n",
    "import matplotlib.pylab as plt\n",
    "%matplotlib inline"
   ]
  },
  {
   "cell_type": "code",
   "execution_count": 3,
   "id": "8286eea0",
   "metadata": {},
   "outputs": [],
   "source": [
    "#import initial dataset\n",
    "flights_df = pd.read_csv('assign_wk2/flights.csv', low_memory=False)"
   ]
  },
  {
   "cell_type": "markdown",
   "id": "4cdc7059",
   "metadata": {},
   "source": [
    "### 1) Dataset-Transformations\n",
    "\n",
    "The airlines database was supplied in three separate CSV files. The data from all of the files was combined in pandas to allow it to be analyzed. It was combined using a combination of coded data replacements and table joins.<br>\n",
    "\n",
    "To begin the cleaning process, all non-essential columns were dropped from the data sets. <br>\n",
    "\n",
    "Airline information was supplied in an abbreviated format. To make this information readable, it has been replaced using a dictionary that contains the proper name for each airline in each row.<br>\n",
    "\n",
    "I am personally interested in exploring this information in Tableau using the programs mapping features. Tableau can use both city and state and/or latitude and longitude information to draw maps. To assist with this, I have used two join statements to appended the city/state and lat/long information for the origin and destination locations on each row. <br>\n",
    "\n",
    "Next, we look to remove unwanted rows from the database. The airports database contains numerous rows corresponding to flights to and from small airports. These can be identified and removed by scrubbing for all airports with a 5-digit code in the database. <br>\n",
    "Cancelled flights have also been removed from the data set.<br>\n",
    "Finally, 1 row value missing a value for SCHEDULED_TIME is dropped. SCHEDULED_TIME will be used to calculate the missing ARRIVAL_TIME values in the dataset. Removing this 1 missing value is required to all the final ARRIVAL_DELAY calculation to complete on 100% of the columns. Our data set contains 5.8 million values. Removing 1 value from such a large dataset is insignificant.<br>"
   ]
  },
  {
   "cell_type": "code",
   "execution_count": 4,
   "id": "336eb4c0",
   "metadata": {},
   "outputs": [],
   "source": [
    "#create list of columns to drop\n",
    "drop_cols = ['TAIL_NUMBER','TAXI_OUT','WHEELS_OFF','AIR_TIME','WHEELS_ON','TAXI_IN',\\\n",
    "             'CANCELLATION_REASON','AIR_SYSTEM_DELAY',\\\n",
    "             'SECURITY_DELAY','AIRLINE_DELAY','LATE_AIRCRAFT_DELAY','WEATHER_DELAY']\n",
    "\n",
    "#drop non-functional columns\n",
    "flights_df.drop(drop_cols,axis=1,inplace=True)\n",
    "\n",
    "#rename airlines abbreviations to generic names\n",
    "flights_df['AIRLINE'] = flights_df['AIRLINE'].replace({\"UA\":\"United Air Lines Inc.\" , \"AA\":\"American Airlines Inc.\" ,\\\n",
    "                                                       \"US\":\"US Airways Inc.\" , \"F9\":\"Frontier Airlines Inc.\" ,\\\n",
    "                                                       \"B6\":\"JetBlue Airways\" ,\\\n",
    "                                                       \"OO\":\"Skywest Airlines Inc.\" , \"AS\":\"Alaska Airlines Inc.\" , \\\n",
    "                                                       \"NK\":\"Spirit Air Lines\" ,\\\n",
    "                                                       \"WN\":\"Southwest Airlines Co.\" , \"DL\":\"Delta Air Lines Inc.\" ,\\\n",
    "                                                       \"EV\":\"Atlantic Southeast Airlines\" ,\\\n",
    "                                                       \"HA\":\"Hawaiian Airlines Inc.\",\"MQ\":\"American Eagle Airlines Inc.\" ,\\\n",
    "                                                       \"VX\":\"Virgin America\"\\\n",
    "                                                      })"
   ]
  },
  {
   "cell_type": "code",
   "execution_count": 5,
   "id": "75382f57",
   "metadata": {
    "scrolled": true
   },
   "outputs": [],
   "source": [
    "#add destination and origin information to every row\n",
    "#load airport databases\n",
    "destinationairports_df = pd.read_csv('assign_wk2/destination_airports.csv')\n",
    "originairports_df = pd.read_csv('assign_wk2/origin_airports.csv')\n",
    "\n",
    "#create list of columns to drop\n",
    "dropairportcolumns =['AIRPORT','COUNTRY']\n",
    "\n",
    "#drop unneeded columns from dataframes\n",
    "destinationairports_df.drop(dropairportcolumns,axis=1,inplace=True)\n",
    "originairports_df.drop(dropairportcolumns,axis=1,inplace=True)\n",
    "\n",
    "#set dataframe index for join operation\n",
    "destinationairports_df = destinationairports_df.set_index('IATA_CODE')\n",
    "originairports_df = originairports_df.set_index('IATA_CODE')"
   ]
  },
  {
   "cell_type": "code",
   "execution_count": 6,
   "id": "31cd3b48",
   "metadata": {},
   "outputs": [],
   "source": [
    "#left join origin information to flights dataframe\n",
    "flightport_df = flights_df.join(originairports_df,on='ORIGIN_AIRPORT',how='left')\n",
    "\n",
    "#left join origin information to flights dataframe\n",
    "flightports_df = flightport_df.join(destinationairports_df,on='DESTINATION_AIRPORT',how='left')"
   ]
  },
  {
   "cell_type": "code",
   "execution_count": 7,
   "id": "7908cc41",
   "metadata": {},
   "outputs": [],
   "source": [
    "#remove minor airports from dataset\n",
    "flightports_df['name_len'] = 0\n",
    "flightports_df.name_len = flightports_df.ORIGIN_AIRPORT.apply(lambda x: len(str(x)))\n",
    "flightports_df.drop(flightports_df[flightports_df.name_len == 5].index, inplace=True)\n",
    "flightports_df.drop(['name_len'],axis=1,inplace=True)\n",
    "\n",
    "#remove cancelled flights from dataset\n",
    "flightports_df.drop(flightports_df[flightports_df.CANCELLED == 1].index, inplace = True)\n",
    "\n",
    "#remove missing scheduled flight time flights from dataset\n",
    "flightports_df.dropna(subset=['SCHEDULED_TIME'], inplace=True)"
   ]
  },
  {
   "cell_type": "code",
   "execution_count": 8,
   "id": "56eb549a",
   "metadata": {},
   "outputs": [
    {
     "data": {
      "text/html": [
       "<div>\n",
       "<style scoped>\n",
       "    .dataframe tbody tr th:only-of-type {\n",
       "        vertical-align: middle;\n",
       "    }\n",
       "\n",
       "    .dataframe tbody tr th {\n",
       "        vertical-align: top;\n",
       "    }\n",
       "\n",
       "    .dataframe thead th {\n",
       "        text-align: right;\n",
       "    }\n",
       "</style>\n",
       "<table border=\"1\" class=\"dataframe\">\n",
       "  <thead>\n",
       "    <tr style=\"text-align: right;\">\n",
       "      <th></th>\n",
       "      <th>YEAR</th>\n",
       "      <th>MONTH</th>\n",
       "      <th>DAY</th>\n",
       "      <th>DAY_OF_WEEK</th>\n",
       "      <th>AIRLINE</th>\n",
       "      <th>FLIGHT_NUMBER</th>\n",
       "      <th>ORIGIN_AIRPORT</th>\n",
       "      <th>DESTINATION_AIRPORT</th>\n",
       "      <th>SCHEDULED_DEPARTURE</th>\n",
       "      <th>DEPARTURE_TIME</th>\n",
       "      <th>DEPARTURE_DELAY</th>\n",
       "      <th>SCHEDULED_TIME</th>\n",
       "      <th>ELAPSED_TIME</th>\n",
       "      <th>DISTANCE</th>\n",
       "      <th>SCHEDULED_ARRIVAL</th>\n",
       "      <th>ARRIVAL_TIME</th>\n",
       "      <th>ARRIVAL_DELAY</th>\n",
       "      <th>DIVERTED</th>\n",
       "      <th>CANCELLED</th>\n",
       "      <th>ORIGIN_CITY</th>\n",
       "      <th>ORIGIN_STATE</th>\n",
       "      <th>ORIGIN_LATITUDE</th>\n",
       "      <th>ORIGIN_LONGITUDE</th>\n",
       "      <th>DESTINATION_CITY</th>\n",
       "      <th>DESTINATION_STATE</th>\n",
       "      <th>DESTINATION_LATITUDE</th>\n",
       "      <th>DESTINATION_LONGITUDE</th>\n",
       "    </tr>\n",
       "  </thead>\n",
       "  <tbody>\n",
       "    <tr>\n",
       "      <th>0</th>\n",
       "      <td>2015</td>\n",
       "      <td>1</td>\n",
       "      <td>1</td>\n",
       "      <td>4</td>\n",
       "      <td>Alaska Airlines Inc.</td>\n",
       "      <td>98</td>\n",
       "      <td>ANC</td>\n",
       "      <td>SEA</td>\n",
       "      <td>5</td>\n",
       "      <td>2354.0</td>\n",
       "      <td>-11.0</td>\n",
       "      <td>205.0</td>\n",
       "      <td>194.0</td>\n",
       "      <td>1448</td>\n",
       "      <td>430</td>\n",
       "      <td>408.0</td>\n",
       "      <td>-22.0</td>\n",
       "      <td>0</td>\n",
       "      <td>0</td>\n",
       "      <td>Anchorage</td>\n",
       "      <td>AK</td>\n",
       "      <td>61.17432</td>\n",
       "      <td>-149.99619</td>\n",
       "      <td>Seattle</td>\n",
       "      <td>WA</td>\n",
       "      <td>47.44898</td>\n",
       "      <td>-122.30931</td>\n",
       "    </tr>\n",
       "  </tbody>\n",
       "</table>\n",
       "</div>"
      ],
      "text/plain": [
       "   YEAR  MONTH  DAY  DAY_OF_WEEK               AIRLINE  FLIGHT_NUMBER  \\\n",
       "0  2015      1    1            4  Alaska Airlines Inc.             98   \n",
       "\n",
       "  ORIGIN_AIRPORT DESTINATION_AIRPORT  SCHEDULED_DEPARTURE  DEPARTURE_TIME  \\\n",
       "0            ANC                 SEA                    5          2354.0   \n",
       "\n",
       "   DEPARTURE_DELAY  SCHEDULED_TIME  ELAPSED_TIME  DISTANCE  SCHEDULED_ARRIVAL  \\\n",
       "0            -11.0           205.0         194.0      1448                430   \n",
       "\n",
       "   ARRIVAL_TIME  ARRIVAL_DELAY  DIVERTED  CANCELLED ORIGIN_CITY ORIGIN_STATE  \\\n",
       "0         408.0          -22.0         0          0   Anchorage           AK   \n",
       "\n",
       "   ORIGIN_LATITUDE ORIGIN_LONGITUDE DESTINATION_CITY DESTINATION_STATE  \\\n",
       "0         61.17432       -149.99619          Seattle                WA   \n",
       "\n",
       "   DESTINATION_LATITUDE DESTINATION_LONGITUDE  \n",
       "0              47.44898            -122.30931  "
      ]
     },
     "execution_count": 8,
     "metadata": {},
     "output_type": "execute_result"
    }
   ],
   "source": [
    "#sample flightports database\n",
    "pd.set_option('display.max_columns', None)\n",
    "flightports_df.head(1)"
   ]
  },
  {
   "cell_type": "code",
   "execution_count": 9,
   "id": "f6cfc3bc",
   "metadata": {},
   "outputs": [
    {
     "name": "stdout",
     "output_type": "stream",
     "text": [
      "<class 'pandas.core.frame.DataFrame'>\n",
      "Int64Index: 5245483 entries, 0 to 5819078\n",
      "Data columns (total 27 columns):\n",
      " #   Column                 Dtype  \n",
      "---  ------                 -----  \n",
      " 0   YEAR                   int64  \n",
      " 1   MONTH                  int64  \n",
      " 2   DAY                    int64  \n",
      " 3   DAY_OF_WEEK            int64  \n",
      " 4   AIRLINE                object \n",
      " 5   FLIGHT_NUMBER          int64  \n",
      " 6   ORIGIN_AIRPORT         object \n",
      " 7   DESTINATION_AIRPORT    object \n",
      " 8   SCHEDULED_DEPARTURE    int64  \n",
      " 9   DEPARTURE_TIME         float64\n",
      " 10  DEPARTURE_DELAY        float64\n",
      " 11  SCHEDULED_TIME         float64\n",
      " 12  ELAPSED_TIME           float64\n",
      " 13  DISTANCE               int64  \n",
      " 14  SCHEDULED_ARRIVAL      int64  \n",
      " 15  ARRIVAL_TIME           float64\n",
      " 16  ARRIVAL_DELAY          float64\n",
      " 17  DIVERTED               int64  \n",
      " 18  CANCELLED              int64  \n",
      " 19  ORIGIN_CITY            object \n",
      " 20  ORIGIN_STATE           object \n",
      " 21  ORIGIN_LATITUDE        float64\n",
      " 22  ORIGIN_LONGITUDE       object \n",
      " 23  DESTINATION_CITY       object \n",
      " 24  DESTINATION_STATE      object \n",
      " 25  DESTINATION_LATITUDE   float64\n",
      " 26  DESTINATION_LONGITUDE  object \n",
      "dtypes: float64(8), int64(10), object(9)\n",
      "memory usage: 1.1+ GB\n"
     ]
    }
   ],
   "source": [
    "#info on flightports\n",
    "flightports_df.info()"
   ]
  },
  {
   "cell_type": "markdown",
   "id": "3d678eb7",
   "metadata": {},
   "source": [
    "### 2) Imputing Arrival Delay\n",
    "\n",
    "To complete the project objectives arrival delay needs to be imputed for every missing value.<br>\n",
    "\n",
    "#### ALL OF THE MISSING ARRIVAL DELAYS CORRESPOND TO DIVERTED FLIGHTS. \n",
    "\n",
    "My preferred way to handle this would be to drop all of the diverted flights from the dataset rather than try to impute their arrival delays. I believe the information for their arrivals is missing because the flights did not go to their destinations, they landed somewhere else. <br>\n",
    "\n",
    "However, if I had to impute the information, I would take the scheduled arrival time and subtract the actual arrival time from it to come up with the difference. We will need to multiply this value by -1 to invert the values so that a flight arriving before the time is shown with a negative arrival delay value and one arriving after shows a positive one. This step is important for correctly classifying rows as late or on time further in the code.\n",
    "\n",
    "To impute arrival delay using this method all the missing arrival time values need to be filled. To generate the missing arrival time, we will take the departure time and add the planes scheduled flight time to it. Scheduled time corresponded to the amount of time a flight is supposed to take and can be used to estimate the length of each missing flight.\n",
    "\n",
    "These two operations are defined and applied to the dataset below:"
   ]
  },
  {
   "cell_type": "code",
   "execution_count": 10,
   "id": "1c128459",
   "metadata": {},
   "outputs": [],
   "source": [
    "#create impute functions\n",
    "\n",
    "#populate missing arrival times\n",
    "def fill_missing_arrival_time(row):\n",
    "\n",
    "    if np.isnan(row.ARRIVAL_TIME):\n",
    "        time = row.DEPARTURE_TIME + row.SCHEDULED_TIME\n",
    "        \n",
    "    else:\n",
    "        time = row.ARRIVAL_TIME\n",
    "        \n",
    "    return time\n",
    "\n",
    "# populate missing delays\n",
    "def fill_missing_delay(row):\n",
    "    delay = np.NaN\n",
    "    \n",
    "    if np.isnan(row.ARRIVAL_DELAY):    \n",
    "        delay = (row.SCHEDULED_ARRIVAL - row.ARRIVAL_TIME)*-1\n",
    "    else:\n",
    "        delay = row.ARRIVAL_DELAY\n",
    "        \n",
    "    return delay"
   ]
  },
  {
   "cell_type": "code",
   "execution_count": 11,
   "id": "086083af",
   "metadata": {},
   "outputs": [],
   "source": [
    "#apply impute function to arrival time\n",
    "flightports_df.ARRIVAL_TIME = flightports_df.apply(lambda x: fill_missing_arrival_time(x), axis = 1)\n",
    "\n",
    "#apply impute function to arrival delay\n",
    "flightports_df.ARRIVAL_DELAY = flightports_df.apply(lambda x: fill_missing_delay(x), axis = 1)"
   ]
  },
  {
   "cell_type": "code",
   "execution_count": 12,
   "id": "d29f184c",
   "metadata": {},
   "outputs": [
    {
     "data": {
      "text/plain": [
       "YEAR                         0\n",
       "MONTH                        0\n",
       "DAY                          0\n",
       "DAY_OF_WEEK                  0\n",
       "AIRLINE                      0\n",
       "FLIGHT_NUMBER                0\n",
       "ORIGIN_AIRPORT               0\n",
       "DESTINATION_AIRPORT          0\n",
       "SCHEDULED_DEPARTURE          0\n",
       "DEPARTURE_TIME               0\n",
       "DEPARTURE_DELAY              0\n",
       "SCHEDULED_TIME               0\n",
       "ELAPSED_TIME             14353\n",
       "DISTANCE                     0\n",
       "SCHEDULED_ARRIVAL            0\n",
       "ARRIVAL_TIME                 0\n",
       "ARRIVAL_DELAY                0\n",
       "DIVERTED                     0\n",
       "CANCELLED                    0\n",
       "ORIGIN_CITY                  0\n",
       "ORIGIN_STATE                 0\n",
       "ORIGIN_LATITUDE              0\n",
       "ORIGIN_LONGITUDE             0\n",
       "DESTINATION_CITY             0\n",
       "DESTINATION_STATE            0\n",
       "DESTINATION_LATITUDE         0\n",
       "DESTINATION_LONGITUDE        0\n",
       "dtype: int64"
      ]
     },
     "execution_count": 12,
     "metadata": {},
     "output_type": "execute_result"
    }
   ],
   "source": [
    "#check for null values\n",
    "flightports_df.isnull().sum()"
   ]
  },
  {
   "cell_type": "markdown",
   "id": "3c21a09f",
   "metadata": {},
   "source": [
    "### Save to CSV or Reload\n",
    "\n",
    "Our dataset is around 1 gigabyte. To reduce its drag on ram, it can be exported to a csv file and/or be brought back in a new data frame here."
   ]
  },
  {
   "cell_type": "code",
   "execution_count": 29,
   "id": "1f64a76d",
   "metadata": {},
   "outputs": [],
   "source": [
    "flightports_df.to_csv('assign_wk2/flights_cleaned.csv',index=False)"
   ]
  },
  {
   "cell_type": "code",
   "execution_count": 2,
   "id": "96f4000b",
   "metadata": {},
   "outputs": [],
   "source": [
    "#import libraries\n",
    "import pandas as pd\n",
    "import numpy as np\n",
    "from scipy import stats\n",
    "import seaborn as sns\n",
    "import matplotlib.pylab as plt\n",
    "%matplotlib inline"
   ]
  },
  {
   "cell_type": "code",
   "execution_count": 3,
   "id": "4b76a5d0",
   "metadata": {},
   "outputs": [],
   "source": [
    "# import cleaned data\n",
    "planedata_df = pd.read_csv('assign_wk2/flights_cleaned.csv', low_memory=False)"
   ]
  },
  {
   "cell_type": "code",
   "execution_count": 13,
   "id": "0746fa57",
   "metadata": {},
   "outputs": [],
   "source": [
    "#if data already exists, start here to rename the table\n",
    "planedata_df = flightports_df"
   ]
  },
  {
   "cell_type": "markdown",
   "id": "570cfdac",
   "metadata": {},
   "source": [
    "### 3) QQ Plot\n",
    "Is the distribution of delayed flights normally distributed?<br>\n",
    "<br>\n",
    "The QQ plot for arrival delay shows a close grouping to the normal distribution line around the center of the graph but a significant curve towards the edges. This pattern is indicative of a normal distribution with very heavy tails, suggesting that there are a significant number of extreme outliers in the dataset. (Ford, 2015)"
   ]
  },
  {
   "cell_type": "code",
   "execution_count": 14,
   "id": "c99410c9",
   "metadata": {
    "scrolled": true
   },
   "outputs": [
    {
     "data": {
      "image/png": "[encoded data removed]",
      "text/plain": [
       "<Figure size 288x288 with 1 Axes>"
      ]
     },
     "metadata": {
      "needs_background": "light"
     },
     "output_type": "display_data"
    }
   ],
   "source": [
    "qqplane=planedata_df.ARRIVAL_DELAY\n",
    "\n",
    "fig, ax = plt.subplots(figsize=(4, 4))\n",
    "stats.probplot(qqplane, plot=ax)\n",
    "\n",
    "plt.tight_layout()\n",
    "plt.show()"
   ]
  },
  {
   "cell_type": "markdown",
   "id": "616ea5cc",
   "metadata": {},
   "source": [
    "### 4) What is the probability a flight leaving from a given airport will arrive at its destination late for each airport?  \n",
    "\n",
    "To calculate the probability of a flight leaving late we need to take the total number of late flights recorded as late for each airport and divide it by the total number of flights leaving that airport. (Hays, 2021) This can de done in the database by classifying each row as late or on time and using that classification row to count the total number of late flights for each location. To do this, a classifier function was built and passed in to the data frame to create a new \"LATE_BOOL\" column. The \"LATE_BOOL\" column can be summed to determine the total number of late flights for each location. It is also used to filter the data set to look for only information corresponding to late or on time flights.\n",
    "\n",
    "### What is the difference between probability and proportion?\n",
    "Probability refers to the chance of something occurring in the future. Proportion refers to the amount of times somethings has occurred in a dataset. (Bruce et al., 2020)"
   ]
  },
  {
   "cell_type": "code",
   "execution_count": 15,
   "id": "641fe535",
   "metadata": {},
   "outputs": [],
   "source": [
    "def label_classifier(row):\n",
    "    \n",
    "    if row.ARRIVAL_DELAY > 0 :\n",
    "        return 1\n",
    "    elif row.ARRIVAL_DELAY < 0:\n",
    "        return 0"
   ]
  },
  {
   "cell_type": "code",
   "execution_count": 16,
   "id": "3a5b1141",
   "metadata": {},
   "outputs": [],
   "source": [
    "planedata_df['LATE_BOOL'] = planedata_df.apply(label_classifier, axis=1)"
   ]
  },
  {
   "cell_type": "code",
   "execution_count": 17,
   "id": "26f12941",
   "metadata": {},
   "outputs": [
    {
     "data": {
      "text/html": [
       "<div>\n",
       "<style scoped>\n",
       "    .dataframe tbody tr th:only-of-type {\n",
       "        vertical-align: middle;\n",
       "    }\n",
       "\n",
       "    .dataframe tbody tr th {\n",
       "        vertical-align: top;\n",
       "    }\n",
       "\n",
       "    .dataframe thead th {\n",
       "        text-align: right;\n",
       "    }\n",
       "</style>\n",
       "<table border=\"1\" class=\"dataframe\">\n",
       "  <thead>\n",
       "    <tr style=\"text-align: right;\">\n",
       "      <th></th>\n",
       "      <th>YEAR</th>\n",
       "      <th>MONTH</th>\n",
       "      <th>DAY</th>\n",
       "      <th>DAY_OF_WEEK</th>\n",
       "      <th>AIRLINE</th>\n",
       "      <th>FLIGHT_NUMBER</th>\n",
       "      <th>ORIGIN_AIRPORT</th>\n",
       "      <th>DESTINATION_AIRPORT</th>\n",
       "      <th>SCHEDULED_DEPARTURE</th>\n",
       "      <th>DEPARTURE_TIME</th>\n",
       "      <th>DEPARTURE_DELAY</th>\n",
       "      <th>SCHEDULED_TIME</th>\n",
       "      <th>ELAPSED_TIME</th>\n",
       "      <th>DISTANCE</th>\n",
       "      <th>SCHEDULED_ARRIVAL</th>\n",
       "      <th>ARRIVAL_TIME</th>\n",
       "      <th>ARRIVAL_DELAY</th>\n",
       "      <th>DIVERTED</th>\n",
       "      <th>CANCELLED</th>\n",
       "      <th>ORIGIN_CITY</th>\n",
       "      <th>ORIGIN_STATE</th>\n",
       "      <th>ORIGIN_LATITUDE</th>\n",
       "      <th>ORIGIN_LONGITUDE</th>\n",
       "      <th>DESTINATION_CITY</th>\n",
       "      <th>DESTINATION_STATE</th>\n",
       "      <th>DESTINATION_LATITUDE</th>\n",
       "      <th>DESTINATION_LONGITUDE</th>\n",
       "      <th>LATE_BOOL</th>\n",
       "    </tr>\n",
       "  </thead>\n",
       "  <tbody>\n",
       "    <tr>\n",
       "      <th>0</th>\n",
       "      <td>2015</td>\n",
       "      <td>1</td>\n",
       "      <td>1</td>\n",
       "      <td>4</td>\n",
       "      <td>Alaska Airlines Inc.</td>\n",
       "      <td>98</td>\n",
       "      <td>ANC</td>\n",
       "      <td>SEA</td>\n",
       "      <td>5</td>\n",
       "      <td>2354.0</td>\n",
       "      <td>-11.0</td>\n",
       "      <td>205.0</td>\n",
       "      <td>194.0</td>\n",
       "      <td>1448</td>\n",
       "      <td>430</td>\n",
       "      <td>408.0</td>\n",
       "      <td>-22.0</td>\n",
       "      <td>0</td>\n",
       "      <td>0</td>\n",
       "      <td>Anchorage</td>\n",
       "      <td>AK</td>\n",
       "      <td>61.17432</td>\n",
       "      <td>-149.99619</td>\n",
       "      <td>Seattle</td>\n",
       "      <td>WA</td>\n",
       "      <td>47.44898</td>\n",
       "      <td>-122.30931</td>\n",
       "      <td>0.0</td>\n",
       "    </tr>\n",
       "    <tr>\n",
       "      <th>1</th>\n",
       "      <td>2015</td>\n",
       "      <td>1</td>\n",
       "      <td>1</td>\n",
       "      <td>4</td>\n",
       "      <td>American Airlines Inc.</td>\n",
       "      <td>2336</td>\n",
       "      <td>LAX</td>\n",
       "      <td>PBI</td>\n",
       "      <td>10</td>\n",
       "      <td>2.0</td>\n",
       "      <td>-8.0</td>\n",
       "      <td>280.0</td>\n",
       "      <td>279.0</td>\n",
       "      <td>2330</td>\n",
       "      <td>750</td>\n",
       "      <td>741.0</td>\n",
       "      <td>-9.0</td>\n",
       "      <td>0</td>\n",
       "      <td>0</td>\n",
       "      <td>Los Angeles</td>\n",
       "      <td>CA</td>\n",
       "      <td>33.94254</td>\n",
       "      <td>-118.40807</td>\n",
       "      <td>West Palm Beach</td>\n",
       "      <td>FL</td>\n",
       "      <td>26.68316</td>\n",
       "      <td>-80.09559</td>\n",
       "      <td>0.0</td>\n",
       "    </tr>\n",
       "    <tr>\n",
       "      <th>2</th>\n",
       "      <td>2015</td>\n",
       "      <td>1</td>\n",
       "      <td>1</td>\n",
       "      <td>4</td>\n",
       "      <td>US Airways Inc.</td>\n",
       "      <td>840</td>\n",
       "      <td>SFO</td>\n",
       "      <td>CLT</td>\n",
       "      <td>20</td>\n",
       "      <td>18.0</td>\n",
       "      <td>-2.0</td>\n",
       "      <td>286.0</td>\n",
       "      <td>293.0</td>\n",
       "      <td>2296</td>\n",
       "      <td>806</td>\n",
       "      <td>811.0</td>\n",
       "      <td>5.0</td>\n",
       "      <td>0</td>\n",
       "      <td>0</td>\n",
       "      <td>San Francisco</td>\n",
       "      <td>CA</td>\n",
       "      <td>37.61900</td>\n",
       "      <td>-122.37484</td>\n",
       "      <td>Charlotte</td>\n",
       "      <td>NC</td>\n",
       "      <td>35.21401</td>\n",
       "      <td>-80.94313</td>\n",
       "      <td>1.0</td>\n",
       "    </tr>\n",
       "    <tr>\n",
       "      <th>3</th>\n",
       "      <td>2015</td>\n",
       "      <td>1</td>\n",
       "      <td>1</td>\n",
       "      <td>4</td>\n",
       "      <td>American Airlines Inc.</td>\n",
       "      <td>258</td>\n",
       "      <td>LAX</td>\n",
       "      <td>MIA</td>\n",
       "      <td>20</td>\n",
       "      <td>15.0</td>\n",
       "      <td>-5.0</td>\n",
       "      <td>285.0</td>\n",
       "      <td>281.0</td>\n",
       "      <td>2342</td>\n",
       "      <td>805</td>\n",
       "      <td>756.0</td>\n",
       "      <td>-9.0</td>\n",
       "      <td>0</td>\n",
       "      <td>0</td>\n",
       "      <td>Los Angeles</td>\n",
       "      <td>CA</td>\n",
       "      <td>33.94254</td>\n",
       "      <td>-118.40807</td>\n",
       "      <td>Miami</td>\n",
       "      <td>FL</td>\n",
       "      <td>25.79325</td>\n",
       "      <td>-80.29056</td>\n",
       "      <td>0.0</td>\n",
       "    </tr>\n",
       "    <tr>\n",
       "      <th>4</th>\n",
       "      <td>2015</td>\n",
       "      <td>1</td>\n",
       "      <td>1</td>\n",
       "      <td>4</td>\n",
       "      <td>Alaska Airlines Inc.</td>\n",
       "      <td>135</td>\n",
       "      <td>SEA</td>\n",
       "      <td>ANC</td>\n",
       "      <td>25</td>\n",
       "      <td>24.0</td>\n",
       "      <td>-1.0</td>\n",
       "      <td>235.0</td>\n",
       "      <td>215.0</td>\n",
       "      <td>1448</td>\n",
       "      <td>320</td>\n",
       "      <td>259.0</td>\n",
       "      <td>-21.0</td>\n",
       "      <td>0</td>\n",
       "      <td>0</td>\n",
       "      <td>Seattle</td>\n",
       "      <td>WA</td>\n",
       "      <td>47.44898</td>\n",
       "      <td>-122.30931</td>\n",
       "      <td>Anchorage</td>\n",
       "      <td>AK</td>\n",
       "      <td>61.17432</td>\n",
       "      <td>-149.99619</td>\n",
       "      <td>0.0</td>\n",
       "    </tr>\n",
       "  </tbody>\n",
       "</table>\n",
       "</div>"
      ],
      "text/plain": [
       "   YEAR  MONTH  DAY  DAY_OF_WEEK                 AIRLINE  FLIGHT_NUMBER  \\\n",
       "0  2015      1    1            4    Alaska Airlines Inc.             98   \n",
       "1  2015      1    1            4  American Airlines Inc.           2336   \n",
       "2  2015      1    1            4         US Airways Inc.            840   \n",
       "3  2015      1    1            4  American Airlines Inc.            258   \n",
       "4  2015      1    1            4    Alaska Airlines Inc.            135   \n",
       "\n",
       "  ORIGIN_AIRPORT DESTINATION_AIRPORT  SCHEDULED_DEPARTURE  DEPARTURE_TIME  \\\n",
       "0            ANC                 SEA                    5          2354.0   \n",
       "1            LAX                 PBI                   10             2.0   \n",
       "2            SFO                 CLT                   20            18.0   \n",
       "3            LAX                 MIA                   20            15.0   \n",
       "4            SEA                 ANC                   25            24.0   \n",
       "\n",
       "   DEPARTURE_DELAY  SCHEDULED_TIME  ELAPSED_TIME  DISTANCE  SCHEDULED_ARRIVAL  \\\n",
       "0            -11.0           205.0         194.0      1448                430   \n",
       "1             -8.0           280.0         279.0      2330                750   \n",
       "2             -2.0           286.0         293.0      2296                806   \n",
       "3             -5.0           285.0         281.0      2342                805   \n",
       "4             -1.0           235.0         215.0      1448                320   \n",
       "\n",
       "   ARRIVAL_TIME  ARRIVAL_DELAY  DIVERTED  CANCELLED    ORIGIN_CITY  \\\n",
       "0         408.0          -22.0         0          0      Anchorage   \n",
       "1         741.0           -9.0         0          0    Los Angeles   \n",
       "2         811.0            5.0         0          0  San Francisco   \n",
       "3         756.0           -9.0         0          0    Los Angeles   \n",
       "4         259.0          -21.0         0          0        Seattle   \n",
       "\n",
       "  ORIGIN_STATE  ORIGIN_LATITUDE ORIGIN_LONGITUDE DESTINATION_CITY  \\\n",
       "0           AK         61.17432       -149.99619          Seattle   \n",
       "1           CA         33.94254       -118.40807  West Palm Beach   \n",
       "2           CA         37.61900       -122.37484        Charlotte   \n",
       "3           CA         33.94254       -118.40807            Miami   \n",
       "4           WA         47.44898       -122.30931        Anchorage   \n",
       "\n",
       "  DESTINATION_STATE  DESTINATION_LATITUDE DESTINATION_LONGITUDE  LATE_BOOL  \n",
       "0                WA              47.44898            -122.30931        0.0  \n",
       "1                FL              26.68316             -80.09559        0.0  \n",
       "2                NC              35.21401             -80.94313        1.0  \n",
       "3                FL              25.79325             -80.29056        0.0  \n",
       "4                AK              61.17432            -149.99619        0.0  "
      ]
     },
     "execution_count": 17,
     "metadata": {},
     "output_type": "execute_result"
    }
   ],
   "source": [
    "planedata_df.head(5)"
   ]
  },
  {
   "cell_type": "code",
   "execution_count": 18,
   "id": "f6c3198d",
   "metadata": {},
   "outputs": [],
   "source": [
    "#create probability_df\n",
    "pd.set_option('display.max_rows', None)\n",
    "probability_df=planedata_df.groupby('ORIGIN_AIRPORT')['LATE_BOOL'].sum()/planedata_df.groupby('ORIGIN_AIRPORT')['LATE_BOOL'].count()"
   ]
  },
  {
   "cell_type": "code",
   "execution_count": 19,
   "id": "cd5a062d",
   "metadata": {},
   "outputs": [
    {
     "data": {
      "text/plain": [
       "ORIGIN_AIRPORT\n",
       "ABE    0.380648\n",
       "Name: LATE_BOOL, dtype: float64"
      ]
     },
     "execution_count": 19,
     "metadata": {},
     "output_type": "execute_result"
    }
   ],
   "source": [
    "#sample probability_df\n",
    "probability_df.head(1)"
   ]
  },
  {
   "cell_type": "markdown",
   "id": "2f4b3550",
   "metadata": {},
   "source": [
    "### 5) Determine the originating airport with the largest proportion of flights arriving late to their destination.\n",
    "\n",
    "The originating airport with the highest proportion of late flights is GST, which is in Gustavus Alaska. Gustavus only has flight service to Juneau Alaska. If you are flying Gustavus to Juneau, you have a 67% chance of arriving late to your destination."
   ]
  },
  {
   "cell_type": "code",
   "execution_count": 20,
   "id": "c3157653",
   "metadata": {
    "scrolled": true
   },
   "outputs": [
    {
     "data": {
      "text/plain": [
       "ORIGIN_AIRPORT\n",
       "GST    0.671053\n",
       "PPG    0.647619\n",
       "ADK    0.636364\n",
       "ILG    0.576087\n",
       "AKN    0.516129\n",
       "Name: LATE_BOOL, dtype: float64"
      ]
     },
     "execution_count": 20,
     "metadata": {},
     "output_type": "execute_result"
    }
   ],
   "source": [
    "#most late flights\n",
    "probability_df.sort_values(ascending=False).head(5)"
   ]
  },
  {
   "cell_type": "markdown",
   "id": "c96c7330",
   "metadata": {},
   "source": [
    "### 6) Determine the originating airport with the smallest proportion of flights arriving late to their destination. \n",
    "The originating airport with the smallest proportion of late flights is CNY, which is in Moab Utah. Like Gustavus, Moab only has flights going to one location, Salt Lake City. However, unlike Gustavus, flights out of the Moab airport are only late 4% of the time"
   ]
  },
  {
   "cell_type": "code",
   "execution_count": 21,
   "id": "ee52d425",
   "metadata": {
    "scrolled": true
   },
   "outputs": [
    {
     "data": {
      "text/plain": [
       "ORIGIN_AIRPORT\n",
       "CNY    0.039024\n",
       "VEL    0.117949\n",
       "BTM    0.155172\n",
       "LWS    0.170175\n",
       "DIK    0.212953\n",
       "Name: LATE_BOOL, dtype: float64"
      ]
     },
     "execution_count": 21,
     "metadata": {},
     "output_type": "execute_result"
    }
   ],
   "source": [
    "#least late flights\n",
    "probability_df.sort_values(ascending=True).head(5)"
   ]
  },
  {
   "cell_type": "markdown",
   "id": "f413be37",
   "metadata": {},
   "source": [
    "### 7) What is the mean and std of late arrival times for both of these airports.\n",
    "\n",
    "Mean<br>\n",
    "Gustavus: 36.2<br>\n",
    "Moab:22.7<br>\n",
    "\n",
    "Std<BR>\n",
    "Gustavus: 39.08<br>\n",
    "Moab:22.4 <br>\n",
    "    \n",
    "The mean and standard deviation of the late arrival delays can also be used to judge how both airports perform when they are running late. Here we are filtering out all on time flights with the hope of understanding, if you are late, just how late will you be. To get to this information the dataset was filtered to exclude all rows of on time flights. \n",
    "    \n",
    "Moab performs better when it is running late. With a mean and standard deviation around 22, you would have to be incredibly unlucky to spend more than 1 hour waiting for a flight. Gustavus however, has a mean lateness and standard dev of 36.2 and 39. When Gustavus is running late, it is really running late. You are probably going to spend close to an hour waiting for that late flight."
   ]
  },
  {
   "cell_type": "code",
   "execution_count": 22,
   "id": "a7cddbb6",
   "metadata": {},
   "outputs": [],
   "source": [
    "#filter for late flights\n",
    "lateonlydf = planedata_df.drop(planedata_df[planedata_df.LATE_BOOL == 0].index)"
   ]
  },
  {
   "cell_type": "code",
   "execution_count": 23,
   "id": "808d2a7a",
   "metadata": {},
   "outputs": [],
   "source": [
    "#group by mean\n",
    "mean_df = lateonlydf.groupby('ORIGIN_AIRPORT')['ARRIVAL_DELAY'].mean()"
   ]
  },
  {
   "cell_type": "code",
   "execution_count": 24,
   "id": "de5b9526",
   "metadata": {},
   "outputs": [
    {
     "data": {
      "text/plain": [
       "36.21568627450981"
      ]
     },
     "execution_count": 24,
     "metadata": {},
     "output_type": "execute_result"
    }
   ],
   "source": [
    "#show mean of GST\n",
    "mean_df['GST']"
   ]
  },
  {
   "cell_type": "code",
   "execution_count": 25,
   "id": "a7d45479",
   "metadata": {},
   "outputs": [
    {
     "data": {
      "text/plain": [
       "22.75"
      ]
     },
     "execution_count": 25,
     "metadata": {},
     "output_type": "execute_result"
    }
   ],
   "source": [
    "#show mean of CNY\n",
    "mean_df['CNY']"
   ]
  },
  {
   "cell_type": "code",
   "execution_count": 26,
   "id": "fab52891",
   "metadata": {},
   "outputs": [],
   "source": [
    "#grou by standard deviation\n",
    "std_df = lateonlydf.groupby('ORIGIN_AIRPORT')['ARRIVAL_DELAY'].std()"
   ]
  },
  {
   "cell_type": "code",
   "execution_count": 27,
   "id": "7ab391b9",
   "metadata": {},
   "outputs": [
    {
     "data": {
      "text/plain": [
       "39.086219426027995"
      ]
     },
     "execution_count": 27,
     "metadata": {},
     "output_type": "execute_result"
    }
   ],
   "source": [
    "#show std of GST\n",
    "std_df['GST']"
   ]
  },
  {
   "cell_type": "code",
   "execution_count": 28,
   "id": "c9810635",
   "metadata": {},
   "outputs": [
    {
     "data": {
      "text/plain": [
       "22.429253856769925"
      ]
     },
     "execution_count": 28,
     "metadata": {},
     "output_type": "execute_result"
    }
   ],
   "source": [
    "#show std of CNY\n",
    "std_df['CNY']"
   ]
  },
  {
   "cell_type": "markdown",
   "id": "72488bd2",
   "metadata": {},
   "source": [
    "### 8) Use these two airports and compare their histograms of arrival delays with each other.  Which airport seems like you would have a better chance at arriving at your destination on time? \n",
    "\n",
    "To visualize how both airports perform, the arrival times have been called into a histograph for both locations. The histograph paints a clear pattern of performance for each airport and reinforces Moab as the better performer. The histogram for Moab shows the majority of its flights actually arrive in Salt Lake ahead of schedule. While Gustavus does occasionally have flights arrive ahead, its arrival times have an extremely long tail showing some flights with huge delays, upwards of 175 minutes"
   ]
  },
  {
   "cell_type": "code",
   "execution_count": 1,
   "id": "f16c9495",
   "metadata": {},
   "outputs": [
    {
     "ename": "NameError",
     "evalue": "name 'planedata_df' is not defined",
     "output_type": "error",
     "traceback": [
      "\u001b[1;31m---------------------------------------------------------------------------\u001b[0m",
      "\u001b[1;31mNameError\u001b[0m                                 Traceback (most recent call last)",
      "\u001b[1;32m<ipython-input-1-555d1a2e0745>\u001b[0m in \u001b[0;36m<module>\u001b[1;34m\u001b[0m\n\u001b[0;32m      1\u001b[0m \u001b[1;31m#filter for GST flight data\u001b[0m\u001b[1;33m\u001b[0m\u001b[1;33m\u001b[0m\u001b[1;33m\u001b[0m\u001b[0m\n\u001b[1;32m----> 2\u001b[1;33m \u001b[0mgstdata_df\u001b[0m \u001b[1;33m=\u001b[0m \u001b[0mplanedata_df\u001b[0m\u001b[1;33m[\u001b[0m\u001b[0mplanedata_df\u001b[0m\u001b[1;33m[\u001b[0m\u001b[1;34m'ORIGIN_AIRPORT'\u001b[0m\u001b[1;33m]\u001b[0m\u001b[1;33m==\u001b[0m\u001b[1;34m'GST'\u001b[0m\u001b[1;33m]\u001b[0m\u001b[1;33m\u001b[0m\u001b[1;33m\u001b[0m\u001b[0m\n\u001b[0m",
      "\u001b[1;31mNameError\u001b[0m: name 'planedata_df' is not defined"
     ]
    }
   ],
   "source": [
    "#filter for GST flight data\n",
    "gstdata_df = planedata_df[planedata_df['ORIGIN_AIRPORT']=='GST']"
   ]
  },
  {
   "cell_type": "code",
   "execution_count": 30,
   "id": "a5ab2190",
   "metadata": {},
   "outputs": [
    {
     "data": {
      "text/plain": [
       "Text(0.5, 0, 'Arrival Delay')"
      ]
     },
     "execution_count": 30,
     "metadata": {},
     "output_type": "execute_result"
    },
    {
     "data": {
      "image/png": "[encoded data removed]",
      "text/plain": [
       "<Figure size 432x288 with 1 Axes>"
      ]
     },
     "metadata": {
      "needs_background": "light"
     },
     "output_type": "display_data"
    }
   ],
   "source": [
    "#create GST graph\n",
    "gstdata_df.hist(column='ARRIVAL_DELAY')\n",
    "plt.title('Gustavus Arrival Delay')\n",
    "plt.ylabel(\"Count of Flights\")\n",
    "plt.xlabel(\"Arrival Delay\")"
   ]
  },
  {
   "cell_type": "code",
   "execution_count": 31,
   "id": "ec574a10",
   "metadata": {},
   "outputs": [],
   "source": [
    "#filter for CNY flight data\n",
    "cnydata_df = planedata_df[planedata_df['ORIGIN_AIRPORT']=='CNY']"
   ]
  },
  {
   "cell_type": "code",
   "execution_count": 32,
   "id": "c53f3794",
   "metadata": {
    "scrolled": true
   },
   "outputs": [
    {
     "data": {
      "text/plain": [
       "Text(0.5, 0, 'Arrival Delay')"
      ]
     },
     "execution_count": 32,
     "metadata": {},
     "output_type": "execute_result"
    },
    {
     "data": {
      "image/png": "[encoded data removed]",
      "text/plain": [
       "<Figure size 432x288 with 1 Axes>"
      ]
     },
     "metadata": {
      "needs_background": "light"
     },
     "output_type": "display_data"
    }
   ],
   "source": [
    "#draw CNY graph\n",
    "cnydata_df.hist(column='ARRIVAL_DELAY')\n",
    "plt.title('Moab Arrival Delay')\n",
    "plt.ylabel(\"Count of Flights\")\n",
    "plt.xlabel(\"Arrival Delay\")"
   ]
  },
  {
   "cell_type": "markdown",
   "id": "1d63209d",
   "metadata": {},
   "source": [
    "### Barplot Code:\n",
    "\n",
    "Create a graph to visualize the number of flights in the database and the carriers. Used for exposition."
   ]
  },
  {
   "cell_type": "code",
   "execution_count": 33,
   "id": "6fb3efe6",
   "metadata": {},
   "outputs": [],
   "source": [
    "#count and name and sort\n",
    "servergraph = planedata_df.groupby('AIRLINE').count()\n",
    "servergraph['AIRLINE'] = ['Alaska Airlines','American Airlines','American Eagle Airlines','Atlantic Southeast','Delta ',\\\n",
    "                         'Frontier','Hawaiian','JetBlue','Skywest','Southwest','Spirit Air','US Airways','United Air','Virgin America']\n",
    "servergraph.sort_values(by='YEAR',inplace=True,ascending=False)"
   ]
  },
  {
   "cell_type": "code",
   "execution_count": 34,
   "id": "bbde2159",
   "metadata": {},
   "outputs": [
    {
     "data": {
      "text/plain": [
       "Text(0, 0.5, 'Count of flights (millions)')"
      ]
     },
     "execution_count": 34,
     "metadata": {},
     "output_type": "execute_result"
    },
    {
     "data": {
      "image/png": "[encoded data removed]",
      "text/plain": [
       "<Figure size 432x288 with 1 Axes>"
      ]
     },
     "metadata": {
      "needs_background": "light"
     },
     "output_type": "display_data"
    }
   ],
   "source": [
    "#create graph\n",
    "sns.barplot(data=servergraph,x='AIRLINE',y='YEAR',palette='summer')\n",
    "plt.xticks(rotation=90)\n",
    "plt.ylabel(\"Count of flights (millions)\")"
   ]
  },
  {
   "cell_type": "markdown",
   "id": "5292b980",
   "metadata": {},
   "source": [
    "## References\n",
    "\n",
    "Bruce, P., Bruce, A. G., &amp; Gedeck, P. (2020). Practical statistics for data scientists: 50+ essential concepts using r and python. O'Reilly. \n",
    "\n",
    "Ford, Clay. (2015, August 26). Understanding Q-Q Plots. Retrieved from https://data.library.virginia.edu/understanding-q-q-plots/\n",
    "\n",
    "Hays, Genie. (2021, October 30). Week 2: Calculating Probability. Retrieved from https://worldclass.regis.edu/d2l/le/news/277913/721581/view?ou=277913\n",
    "\n"
   ]
  },
  {
   "cell_type": "code",
   "execution_count": null,
   "id": "3eaf7e7f",
   "metadata": {},
   "outputs": [],
   "source": []
  }
 ],
 "metadata": {
  "kernelspec": {
   "display_name": "Python 3 (ipykernel)",
   "language": "python",
   "name": "python3"
  },
  "language_info": {
   "codemirror_mode": {
    "name": "ipython",
    "version": 3
   },
   "file_extension": ".py",
   "mimetype": "text/x-python",
   "name": "python",
   "nbconvert_exporter": "python",
   "pygments_lexer": "ipython3",
   "version": "3.9.12"
  }
 },
 "nbformat": 4,
 "nbformat_minor": 5
}
